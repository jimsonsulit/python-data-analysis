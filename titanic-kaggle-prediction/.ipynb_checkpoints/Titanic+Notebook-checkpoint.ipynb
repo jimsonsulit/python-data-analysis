{
 "cells": [
  {
   "cell_type": "markdown",
   "metadata": {},
   "source": [
    "Kaggle is a famous data science platform where beginners could actually learn how to explore data sets. For beginners, the most popular of these competitions is about predicting which passengers survived the sinking of the Titanic. Each Kaggle competition has two key data files that we will work with - a training set and a testing set. Per our research, the training set contains data we can use to train our model. It has a number of feature columns which contain various descriptive data, as well as a column of the values we are trying to predict: Survival. \n",
    "\n",
    "We will also see that the testing set contains all of the same feature columns, but is missing the target value column. Additionally, the testing set usually has fewer observations (rows) than the training set.\n"
   ]
  },
  {
   "cell_type": "code",
   "execution_count": 3,
   "metadata": {},
   "outputs": [
    {
     "name": "stdout",
     "output_type": "stream",
     "text": [
      "Test dataset's shape: (418, 11)\n",
      "Train dataset's shape:(891, 12)\n"
     ]
    }
   ],
   "source": [
    "import pandas as pd\n",
    "import matplotlib.pyplot as plt\n",
    "%matplotlib inline\n",
    "\n",
    "test = pd.read_csv(\"test.csv\")\n",
    "test_shape = test.shape\n",
    "print(\"Test dataset's shape: \" + str(test_shape))\n",
    "\n",
    "train = pd.read_csv(\"train.csv\")\n",
    "train_shape = train.shape\n",
    "print(\"Train dataset's shape:\" + str(train_shape))"
   ]
  },
  {
   "cell_type": "markdown",
   "metadata": {},
   "source": [
    "This task has a data dictionary which explains the various columns that make up the data set. Below are the descriptions contained in that data dictionary:\n",
    "\n",
    "* PassengerID - A column added by Kaggle to identify each row and make submissions easier\n",
    "* Survived - Whether the passenger survived or not and the value we are predicting (0=No, 1=Yes)\n",
    "* Pclass - The class of the ticket the passenger purchased (1=1st, 2=2nd, 3=3rd)\n",
    "* Sex - The passenger's sex\n",
    "* Age - The passenger's age in years\n",
    "* SibSp - The number of siblings or spouses the passenger had aboard the Titanic\n",
    "* Parch - The number of parents or children the passenger had aboard the Titanic\n",
    "* Ticket - The passenger's ticket number\n",
    "* Fare - The fare the passenger paid\n",
    "* Cabin - The passenger's cabin number\n",
    "* Embarked - The port where the passenger embarked (C=Cherbourg, Q=Queenstown, S=Southampton)"
   ]
  },
  {
   "cell_type": "code",
   "execution_count": 4,
   "metadata": {},
   "outputs": [
    {
     "data": {
      "image/png": "[encoded data removed]",
      "text/plain": [
       "<matplotlib.figure.Figure at 0x104e56860>"
      ]
     },
     "metadata": {},
     "output_type": "display_data"
    }
   ],
   "source": [
    "sex_pivot = train.pivot_table(index=\"Sex\",values=\"Survived\")\n",
    "sex_pivot.plot.bar()\n",
    "plt.show()"
   ]
  },
  {
   "cell_type": "markdown",
   "metadata": {},
   "source": [
    "The type of machine learning we will be doing is called <b>classification</b>, because when we make predictions we are classifying each passenger as survived or not. More specifically, we are performing binary classification, which means that there are only two different states we are classifying. Understanding the Titanic disaster and specifically what variables might affect the outcome of survival is important. Anyone who has watched the movie Titanic would remember that women and children were given preference to lifeboats (as they were in real life). We could also remember the vast class disparity of the passengers."
   ]
  },
  {
   "cell_type": "markdown",
   "metadata": {},
   "source": [
    "Our indicates that <b>Age, Sex, and PClass</b> may be good predictors of survival. We'll start by exploring Sex and Pclass by visualizing the data.\n",
    "\n",
    "Because the Survived column contains 0 if the passenger did not survive and 1 if they did, we can segment our data by sex and calculate the mean of this column. We can use DataFrame.pivot_table() to easily do this:\n"
   ]
  },
  {
   "cell_type": "code",
   "execution_count": 5,
   "metadata": {},
   "outputs": [
    {
     "data": {
      "image/png": "[encoded data removed]",
      "text/plain": [
       "<matplotlib.figure.Figure at 0x10a00ef60>"
      ]
     },
     "metadata": {},
     "output_type": "display_data"
    },
    {
     "data": {
      "image/png": "[encoded data removed]",
      "text/plain": [
       "<matplotlib.figure.Figure at 0x109f3d6a0>"
      ]
     },
     "metadata": {},
     "output_type": "display_data"
    }
   ],
   "source": [
    "import matplotlib.pyplot as plt\n",
    "\n",
    "sex_pivot = train.pivot_table(index=\"Sex\",values=\"Survived\")\n",
    "sex_pivot.plot.bar()\n",
    "plt.show()\n",
    "\n",
    "pclass_pivot = train.pivot_table(index=\"Pclass\",values=\"Survived\")\n",
    "pclass_pivot.plot.bar()\n",
    "plt.show()"
   ]
  },
  {
   "cell_type": "markdown",
   "metadata": {},
   "source": [
    "We can observe from our data that since preference are given to more female, we can see more female passengers have survived. We have also seen that more people from the 1st class survived compared to the 2nd and 3rd classes. The Sex and PClass columns are what we call <b>categorical features</b>. That means that the values represented a few separate options (for instance, whether the passenger was male or female, class divided among 1, 2, 3). Let's take a look at the Age column using Series.describe()."
   ]
  },
  {
   "cell_type": "code",
   "execution_count": 29,
   "metadata": {},
   "outputs": [
    {
     "data": {
      "text/plain": [
       "count    714.000000\n",
       "mean      29.699118\n",
       "std       14.526497\n",
       "min        0.420000\n",
       "25%       20.125000\n",
       "50%       28.000000\n",
       "75%       38.000000\n",
       "max       80.000000\n",
       "Name: Age, dtype: float64"
      ]
     },
     "execution_count": 29,
     "metadata": {},
     "output_type": "execute_result"
    }
   ],
   "source": [
    "train[\"Age\"].describe()"
   ]
  },
  {
   "cell_type": "markdown",
   "metadata": {},
   "source": [
    "The Age column contains numbers ranging from 0.42 to 80.0 (If we look at Kaggle's data page, it informs us that Age is fractional if the passenger is less than one). The other thing to note here is that there are <b>714 values in this column, fewer than the 891 rows</b> we discovered that the train data set had earlier which indicates we have some missing values.\n",
    "\n",
    "All of this means that the Age column needs to be treated slightly differently, as this is a <b>continuous numerical column.</b> One way to look at distribution of values in a continuous numerical set is to use histograms. We can create two histograms to compare visually the those that survived vs those who died across different age ranges:\n",
    "\n",
    "\n"
   ]
  },
  {
   "cell_type": "code",
   "execution_count": 6,
   "metadata": {},
   "outputs": [
    {
     "data": {
      "image/png": "[encoded data removed]",
      "text/plain": [
       "<matplotlib.figure.Figure at 0x109f260b8>"
      ]
     },
     "metadata": {},
     "output_type": "display_data"
    }
   ],
   "source": [
    "survived = train[train[\"Survived\"] == 1]\n",
    "died = train[train[\"Survived\"] == 0]\n",
    "survived[\"Age\"].plot.hist(alpha=0.5,color='blue',bins=50)\n",
    "died[\"Age\"].plot.hist(alpha=0.5,color='red',bins=50)\n",
    "plt.legend(['Survived','Died'])\n",
    "plt.show()"
   ]
  },
  {
   "cell_type": "markdown",
   "metadata": {},
   "source": [
    "The relationship here is not simple, but we can see that in some age ranges more passengers survived - where the blue bars are higher than the red bars.\n",
    "\n",
    "In order for this to be useful to our machine learning model, we can separate this continuous feature into a categorical feature by dividing it into ranges. We'll use the pandas.cut() function to help us out on this.\n",
    "\n",
    "The pandas.cut() function has two required parameters - the column we wish to cut, and a list of numbers which define the boundaries of our cuts. We are also going to use the optional parameter labels, which takes a list of labels for the resultant bins. This will make it easier for us to understand our results.\n",
    "\n",
    "Before we modify this column, we have to be aware of two things. Firstly, any change we make to the train data, we also need to make to the test data, otherwise we will be unable to use our model to make predictions for our submissions. Secondly, we need to remember to handle the missing values we observed above.\n",
    "\n",
    "In the example below, we will create a function that:\n",
    "\n",
    "* uses the pandas.fillna() method to fill all of the missing values with -0.5\n",
    "* cuts the Age column into seven segments using pandas.cut().\n",
    "\n",
    "We then use that function on both the train and test dataframes."
   ]
  },
  {
   "cell_type": "code",
   "execution_count": 8,
   "metadata": {},
   "outputs": [
    {
     "data": {
      "image/png": "[encoded data removed]",
      "text/plain": [
       "<matplotlib.figure.Figure at 0x1124c4160>"
      ]
     },
     "metadata": {},
     "output_type": "display_data"
    }
   ],
   "source": [
    "def process_age(df,cut_points,label_names):\n",
    "    df[\"Age\"] = df[\"Age\"].fillna(-0.5)\n",
    "    df[\"Age_categories\"] = pd.cut(df[\"Age\"],cut_points,labels=label_names)\n",
    "    return df\n",
    "\n",
    "cut_points = [-1, 0, 5, 12, 18, 35, 60, 100]\n",
    "label_names = [\"Missing\", \"Infant\", \"Child\", \"Teenager\", \"Young Adult\", \"Adult\", \"Senior\"]\n",
    "\n",
    "train = process_age(train, cut_points, label_names)\n",
    "test = process_age(test, cut_points, label_names)\n",
    "\n",
    "pivot = train.pivot_table(index=\"Age_categories\",values=\"Survived\")\n",
    "pivot.plot.bar()\n",
    "plt.show()\n"
   ]
  },
  {
   "cell_type": "markdown",
   "metadata": {},
   "source": [
    "So far we have identified three columns that may be useful for predicting survival:\n",
    "\n",
    "* Sex\n",
    "* Pclass\n",
    "* Age, or more specifically our newly created Age_categories\n",
    "\n",
    "Before we build our model, we need to prepare these columns for machine learning. Most machine learning algorithms can't understand text labels, so we have to convert our values into numbers. Additionally, we need to be careful that we don't imply any numeric relationship where there isn't one. If we think of the values in the Pclass column, we know they are 1, 2, and 3."
   ]
  },
  {
   "cell_type": "code",
   "execution_count": 9,
   "metadata": {},
   "outputs": [
    {
     "data": {
      "text/plain": [
       "3    491\n",
       "1    216\n",
       "2    184\n",
       "Name: Pclass, dtype: int64"
      ]
     },
     "execution_count": 9,
     "metadata": {},
     "output_type": "execute_result"
    }
   ],
   "source": [
    "train[\"Pclass\"].value_counts()"
   ]
  },
  {
   "cell_type": "markdown",
   "metadata": {},
   "source": [
    "While the class of each passenger certainly has some sort of ordered relationship, the relationship between each class is not the same as the relationship between the numbers 1, 2, and 3. For instance, class 2 isn't \"worth\" double what class 1 is, and class 3 isn't \"worth\" triple what class 1 is.\n",
    "\n",
    "In order to remove this relationship, we can create dummy columns for each unique value in Pclass. We can use the pandas.get_dummies() function to create dummy columns for the Pclass column and add it back to the original dataframe. We do this so as the relationship won't confuse us. It then applies that function the train and test dataframes. Let's also use this function to create dummy columns for both Sex and Age_categories columns."
   ]
  },
  {
   "cell_type": "code",
   "execution_count": 9,
   "metadata": {
    "collapsed": true
   },
   "outputs": [],
   "source": [
    "def create_dummies(df,column_name):\n",
    "    dummies = pd.get_dummies(df[column_name],prefix=column_name)\n",
    "    df = pd.concat([df,dummies],axis=1)\n",
    "    return df\n",
    "\n",
    "train = create_dummies(train,\"Pclass\")\n",
    "test = create_dummies(test,\"Pclass\")\n",
    "\n",
    "train = create_dummies(train, \"Sex\")\n",
    "test = create_dummies(test, \"Sex\")\n",
    "\n",
    "train = create_dummies(train, \"Age_categories\")\n",
    "test = create_dummies(test, \"Age_categories\")"
   ]
  },
  {
   "cell_type": "markdown",
   "metadata": {},
   "source": [
    "Now that our data has been prepared, let's train our first model. The first model we will use is called Logistic Regression, which is often the first model we will train when performing classification.\n",
    "\n",
    "We will be using the scikit-learn library as it has many tools that make performing machine learning easier. The scikit-learn workflow consists of four main steps:\n",
    "\n",
    "* Instantiate (or create) the specific machine learning model we want to use\n",
    "* Fit the model to the training data\n",
    "* Use the model to make predictions\n",
    "* Evaluate the accuracy of the predictions\n",
    "\n",
    "Each model in scikit-learn is implemented as a separate class and the first step is to identify the class we want to create an instance of. In our case, we want to use the LogisticRegression class.\n",
    "\n",
    "We'll start by looking at the first two steps. First, we need to import the class:"
   ]
  },
  {
   "cell_type": "code",
   "execution_count": 10,
   "metadata": {
    "collapsed": true
   },
   "outputs": [],
   "source": [
    "from sklearn.linear_model import LogisticRegression"
   ]
  },
  {
   "cell_type": "markdown",
   "metadata": {},
   "source": [
    "Next, we create a LogisticRegression object:"
   ]
  },
  {
   "cell_type": "code",
   "execution_count": 11,
   "metadata": {
    "collapsed": true
   },
   "outputs": [],
   "source": [
    "lr = LogisticRegression()"
   ]
  },
  {
   "cell_type": "markdown",
   "metadata": {},
   "source": [
    "Lastly, we use the LogisticRegression.fit() method to train our model. The .fit() method accepts two arguments: X and y. X must be a two dimensional array (like a dataframe) of the features that we wish to train our model on, and y must be a one-dimensional array (like a series) of our target, or the column we wish to predict."
   ]
  },
  {
   "cell_type": "code",
   "execution_count": 12,
   "metadata": {},
   "outputs": [
    {
     "data": {
      "text/plain": [
       "LogisticRegression(C=1.0, class_weight=None, dual=False, fit_intercept=True,\n",
       "          intercept_scaling=1, max_iter=100, multi_class='ovr', n_jobs=1,\n",
       "          penalty='l2', random_state=None, solver='liblinear', tol=0.0001,\n",
       "          verbose=0, warm_start=False)"
      ]
     },
     "execution_count": 12,
     "metadata": {},
     "output_type": "execute_result"
    }
   ],
   "source": [
    "columns = ['Pclass_2', 'Pclass_3', 'Sex_male']\n",
    "lr.fit(train[columns], train['Survived'])"
   ]
  },
  {
   "cell_type": "markdown",
   "metadata": {},
   "source": [
    "The code above fits (or trains) our LogisticRegression model using three columns: Pclass_2, Pclass_3, and Sex_male. Let's train our model using all of the columns we created previously. In the code below, we used LogisticRegression.fit() to fit the model on the train dataset using the following:\n",
    "* The columns contained in columns as the first (X) parameter.\n",
    "* The Survived column as the second y parameter"
   ]
  },
  {
   "cell_type": "code",
   "execution_count": 13,
   "metadata": {},
   "outputs": [
    {
     "data": {
      "text/plain": [
       "LogisticRegression(C=1.0, class_weight=None, dual=False, fit_intercept=True,\n",
       "          intercept_scaling=1, max_iter=100, multi_class='ovr', n_jobs=1,\n",
       "          penalty='l2', random_state=None, solver='liblinear', tol=0.0001,\n",
       "          verbose=0, warm_start=False)"
      ]
     },
     "execution_count": 13,
     "metadata": {},
     "output_type": "execute_result"
    }
   ],
   "source": [
    "columns = [\"Pclass_1\", \"Pclass_2\", \"Pclass_3\", \"Sex_female\", \"Sex_male\",\n",
    "       \"Age_categories_Missing\",\"Age_categories_Infant\",\n",
    "       \"Age_categories_Child\", \"Age_categories_Teenager\",\n",
    "       \"Age_categories_Young Adult\", \"Age_categories_Adult\",\n",
    "       \"Age_categories_Senior\"]\n",
    "\n",
    "from sklearn.linear_model import LogisticRegression\n",
    "lr = LogisticRegression()\n",
    "lr.fit(train[columns], train[\"Survived\"])"
   ]
  },
  {
   "cell_type": "markdown",
   "metadata": {},
   "source": [
    "With the code above, we have trained our first machine learning model. Our next step is to find out how accurate our model is, and to do that, we'll have to make some predictions. If we can recall from earlier, we do have a <b>test</b> dataframe that we could use to make predictions. We could make predictions on that data set, but because it does not have the <b>Survived</b> column we would have to submit it to Kaggle to find out our accuracy. This would be inefficient if we have to submit to find out the accuracy every time we optimized our model. \n",
    "\n",
    "We could also fit and predict on our train dataframe, however if we do this there is a high likelihood that our model will over fit, which means it will perform well because we're testing on the same data we've trained on, but then perform much worse on new, unseen data.\n",
    "\n",
    "As convention, we can split our train dataframe into two:\n",
    "\n",
    "* One part to train our model on (often 80% of the observations)\n",
    "* One part to make predictions with and test our model (often 20% of the observations)\n",
    "\n",
    "The convention in machine learning is to call these two parts train and test. This can become confusing, since we already have our test dataframe that we will eventually use to make predictions to submit to Kaggle. To avoid confusion, from here on, we're going to call this Kaggle 'test' data holdout data, which is the technical name given to this type of data used for final predictions.\n",
    "\n",
    "The <b>scikit-learn</b> library has a <b>model_selection.train_test_split()</b> function that we can use to split our data. <b>train_test_split()</b> accepts two parameters, X and y, which contain all the data we want to train and test on, and returns four objects: train_X, train_y, test_X, test_y\n"
   ]
  },
  {
   "cell_type": "code",
   "execution_count": 14,
   "metadata": {
    "collapsed": true
   },
   "outputs": [],
   "source": [
    "holdout = test # from now on we will refer to this\n",
    "               # dataframe as the holdout data\n",
    "\n",
    "from sklearn.model_selection import train_test_split\n",
    "\n",
    "columns = ['Pclass_1', 'Pclass_2', 'Pclass_3', 'Sex_female', 'Sex_male',\n",
    "       'Age_categories_Missing','Age_categories_Infant',\n",
    "       'Age_categories_Child', 'Age_categories_Teenager',\n",
    "       'Age_categories_Young Adult', 'Age_categories_Adult',\n",
    "       'Age_categories_Senior']\n",
    "all_X = train[columns]\n",
    "all_y = train['Survived']\n",
    "\n",
    "train_X, test_X, train_y, test_y = train_test_split(all_X, all_y, test_size=0.20,random_state=0)"
   ]
  },
  {
   "cell_type": "markdown",
   "metadata": {},
   "source": [
    "There are two other parameters we used: <b>test_size</b>, which lets us control what proportions our data are split into, and <b>random_state. The train_test_split() function</b> randomizes observations before dividing them, and setting a random seed means that our results will be reproducible, which is important if we are collaborating, or need to produce consistent results each time."
   ]
  },
  {
   "cell_type": "markdown",
   "metadata": {},
   "source": [
    "Now that we have our data split into train and test sets, we can fit our model again on our training set, and then use that model to make predictions on our test set. Once we have fit our model, we can use the LogisticRegression.predict() method to make predictions. The <b>predict()</b> method takes a single parameter X, a two dimensional array of features for the observations we wish to predict. X must have the exact same features as the array we used to fit our model. The method returns single dimensional array of predictions.\n",
    "\n",
    "    lr = LogisticRegression()\n",
    "    lr.fit(train_X, train_y)\n",
    "    predictions = lr.predict(test_X)\n",
    "    \n",
    "There are a number of ways to measure the accuracy of machine learning models, but when competing in Kaggle competitions we want to make sure we use the same method that Kaggle uses to calculate accuracy for that specific competition. In this case, the evaluation section for the Titanic competition on Kaggle tells us that our score calculated as \"the percentage of passengers correctly predicted\". This is by far the most common form of accuracy for binary classification.\n",
    "\n",
    "As an example, imagine we were predicting a small data set of five observations. Predicting 3 out 5 of the observations will give a prediction accuracy of 60%. \n",
    "\n",
    "Scikit-learn has a handy function we can use to calculate accuracy: <b>metrics.accuracy_score()</b>. The function accepts two parameters, <b>y_true and y_pred</b>, which are the actual values and our predicted values respectively, and returns our accuracy score.\n",
    "\n",
    "\n",
    "\n",
    "\n"
   ]
  },
  {
   "cell_type": "markdown",
   "metadata": {},
   "source": [
    "    from sklearn.metrics import accuracy_score\n",
    "    accuracy = accuracy_score(test_y, predictions)"
   ]
  },
  {
   "cell_type": "code",
   "execution_count": 15,
   "metadata": {},
   "outputs": [
    {
     "name": "stdout",
     "output_type": "stream",
     "text": [
      "0.810055865922\n"
     ]
    }
   ],
   "source": [
    "from sklearn.metrics import accuracy_score\n",
    "lr = LogisticRegression()\n",
    "lr.fit(train_X, train_y)\n",
    "predictions = lr.predict(test_X)\n",
    "accuracy = accuracy_score(test_y, predictions)\n",
    "print(accuracy)"
   ]
  },
  {
   "cell_type": "markdown",
   "metadata": {
    "collapsed": true
   },
   "source": [
    "Our model has an accuracy score of 81.0% when tested against our 20% test set. Given that this data set is quite small, there is a good chance that our model is overfitting, and will not perform as well on totally unseen data.\n",
    "\n",
    "To give us a better understanding of the real performance of our model, we can use a technique called cross validation to train and test our model on different splits of our data, and then average the accuracy scores.\n",
    "\n",
    "The most common form of cross validation, and the one we will be using, is called k-fold cross validation. 'Fold' refers to each different iteration that we train our model on, and 'k' just refers to the number of folds. In the diagram above, we have illustrated k-fold validation where k is 5.\n",
    "\n",
    "We will use scikit-learn's model_selection.cross_val_score() function to automate the process. The basic syntax for cross_val_score() is:\n",
    "\n",
    "    cross_val_score(estimator, X, y, cv=None)\n",
    "    \n",
    "* estimator is a scikit-learn estimator object, like the LogisticRegression() objects we have been creating.\n",
    "* X is all features from our data set.\n",
    "* y is the target variables.\n",
    "* cv specifies the number of folds.\n",
    "\n",
    "The function returns a numpy ndarray of the accuracy scores of each fold. It's worth noting, the cross_val_score() function can use a variety of cross validation techniques and scoring types, but it defaults to k-fold validation and accuracy scores for our input types."
   ]
  },
  {
   "cell_type": "code",
   "execution_count": 16,
   "metadata": {},
   "outputs": [
    {
     "name": "stdout",
     "output_type": "stream",
     "text": [
      "[ 0.8         0.81111111  0.7752809   0.87640449  0.80898876  0.78651685\n",
      "  0.76404494  0.76404494  0.83146067  0.80681818]\n",
      "0.802467086596\n"
     ]
    }
   ],
   "source": [
    "from sklearn.model_selection import cross_val_score\n",
    "import numpy as np\n",
    "\n",
    "lr = LogisticRegression()\n",
    "scores = cross_val_score(lr, all_X, all_y, cv=10)\n",
    "accuracy = np.mean(scores)\n",
    "\n",
    "print(scores)\n",
    "print(accuracy)"
   ]
  },
  {
   "cell_type": "markdown",
   "metadata": {},
   "source": [
    "From the results of our k-fold validation, we can see that the accuracy number varies with each fold - ranging between 76.4% and 87.6%. This demonstrates why cross validation is important.\n",
    "\n",
    "As it happens, our average accuracy score was 80.2%, which is not far from the 81.0% we got from our simple train/test split, however this will not always be the case, and we should always use cross-validation to make sure the error metrics you are getting from your model are accurate.\n",
    "\n",
    "We are now ready to use the model we have built to train our final model and then make predictions on our unseen holdout data, or what Kaggle calls the 'test' data set."
   ]
  },
  {
   "cell_type": "code",
   "execution_count": 17,
   "metadata": {
    "collapsed": true
   },
   "outputs": [],
   "source": [
    "columns = ['Pclass_1', 'Pclass_2', 'Pclass_3', 'Sex_female', 'Sex_male',\n",
    "       'Age_categories_Missing','Age_categories_Infant',\n",
    "       'Age_categories_Child', 'Age_categories_Teenager',\n",
    "       'Age_categories_Young Adult', 'Age_categories_Adult',\n",
    "       'Age_categories_Senior']\n",
    "\n",
    "lr = LogisticRegression()\n",
    "lr.fit(all_X,all_y)\n",
    "holdout_predictions = lr.predict(holdout[columns])"
   ]
  },
  {
   "cell_type": "markdown",
   "metadata": {},
   "source": [
    "The last thing we need to do is create a submission file. Each Kaggle competition can have slightly different requirements for the submission file. Here's what is specified on the Titanic competition evaluation page:\n",
    "\n",
    "You should submit a csv file with exactly 418 entries plus a header row. Your submission will show an error if you have extra columns (beyond PassengerId and Survived) or rows.\n",
    "\n",
    "The file should have exactly 2 columns:\n",
    "\n",
    "* PassengerId (sorted in any order)\n",
    "* Survived (contains your binary predictions: 1 for survived, 0 for deceased)\n",
    "\n",
    "We will need to create a new dataframe that contains the <b>holdout_predictions</b> we created in the previous screen and the <b>PassengerId</b> column from the <b>holdout</b> dataframe. We don't need to worry about matching the data up, as both of these remain in their original order.\n",
    "\n",
    "To do this, we can pass a dictionary to the pandas.DataFrame() function:\n",
    "\n",
    "    holdout_ids = holdout[\"PassengerId\"]\n",
    "    submission_df = {\"PassengerId\": holdout_ids,\n",
    "                     \"Survived\": holdout_predictions}\n",
    "    submission = pd.DataFrame(submission_df)\n",
    "\n",
    "Finally, we'll use the DataFrame.to_csv() method to save the dataframe to a CSV file. We need to make sure the index parameter is set to False, otherwise we will add an extra column to our CSV."
   ]
  },
  {
   "cell_type": "code",
   "execution_count": 18,
   "metadata": {
    "collapsed": true
   },
   "outputs": [],
   "source": [
    "holdout_ids = holdout[\"PassengerId\"]\n",
    "submission_df = {\"PassengerId\": holdout_ids,\n",
    "                 \"Survived\": holdout_predictions}\n",
    "submission = pd.DataFrame(submission_df)\n",
    "\n",
    "submission.to_csv(\"submission.csv\",index=False)"
   ]
  },
  {
   "cell_type": "markdown",
   "metadata": {
    "collapsed": true
   },
   "source": [
    "Our submission to Kaggle got us an accuracy of 75.6%. We will explore in the coming exercises how we can increase our accuracy score."
   ]
  }
 ],
 "metadata": {
  "kernelspec": {
   "display_name": "Python 3",
   "language": "python",
   "name": "python3"
  },
  "language_info": {
   "codemirror_mode": {
    "name": "ipython",
    "version": 3
   },
   "file_extension": ".py",
   "mimetype": "text/x-python",
   "name": "python",
   "nbconvert_exporter": "python",
   "pygments_lexer": "ipython3",
   "version": "3.6.3"
  }
 },
 "nbformat": 4,
 "nbformat_minor": 2
}
